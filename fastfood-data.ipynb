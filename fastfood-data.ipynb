{
 "cells": [
  {
   "cell_type": "markdown",
   "id": "0027f05e-4ebb-4ff3-8984-4d41766b4444",
   "metadata": {},
   "source": [
    "**Fast Food**"
   ]
  },
  {
   "cell_type": "code",
   "execution_count": null,
   "id": "aca6db2b-814a-4bec-94c6-645b7f1ae5fc",
   "metadata": {},
   "outputs": [],
   "source": [
    "This highlights areas in Pittsburgh with the highest concentrations of restaurants and fast-food options, using data from WPRCD. I believe that having a variety of dining choices is a key feature of any vibrant, fun neighborhood in Pittsburgh."
   ]
  },
  {
   "cell_type": "code",
   "execution_count": 21,
   "id": "2028c90d-a804-4861-ad14-d00fb834a792",
   "metadata": {},
   "outputs": [
    {
     "name": "stdout",
     "output_type": "stream",
     "text": [
      "ZIP Code\n",
      "15146    51\n",
      "15222    46\n",
      "15237    44\n",
      "15213    38\n",
      "15205    36\n",
      "15219    27\n",
      "15236    25\n",
      "15235    22\n",
      "15102    21\n",
      "15217    20\n",
      "15108    19\n",
      "15203    19\n",
      "15017    19\n",
      "15238    18\n",
      "15090    18\n",
      "15122    16\n",
      "15120    16\n",
      "15084    15\n",
      "15241    15\n",
      "15220    15\n",
      "15044    14\n",
      "15202    13\n",
      "15137    13\n",
      "15227    12\n",
      "15221    12\n",
      "15136    12\n",
      "15232    12\n",
      "15234    11\n",
      "15206    11\n",
      "15231    11\n",
      "15210    11\n",
      "15216    11\n",
      "15143    10\n",
      "15101    10\n",
      "15275    10\n",
      "15106    10\n",
      "15065    10\n",
      "15212     9\n",
      "15239     9\n",
      "15131     9\n",
      "15132     9\n",
      "15229     8\n",
      "15218     7\n",
      "15228     7\n",
      "15147     7\n",
      "15226     7\n",
      "15224     6\n",
      "15223     5\n",
      "15201     5\n",
      "15215     4\n",
      "15233     4\n",
      "15034     4\n",
      "16046     3\n",
      "15123     3\n",
      "15071     3\n",
      "15037     3\n",
      "15139     3\n",
      "15209     3\n",
      "15116     3\n",
      "15110     2\n",
      "15024     2\n",
      "15025     2\n",
      "15145     2\n",
      "15211     2\n",
      "15056     2\n",
      "15126     1\n",
      "15225     1\n",
      "15003     1\n",
      "15148     1\n",
      "15282     1\n",
      "15208     1\n",
      "15144     1\n",
      "15076     1\n",
      "15129     1\n",
      "15207     1\n",
      "15140     1\n",
      "15045     1\n"
     ]
    }
   ],
   "source": [
    "import pandas as pd\n",
    "\n",
    "df = pd.read_csv(\"fastfood.tsv\", sep=\"\\t\")\n",
    "zip_counts = df['ZIP Code'].value_counts().sort_values(ascending=False)\n",
    "print(zip_counts.to_string())\n"
   ]
  },
  {
   "cell_type": "markdown",
   "id": "d0d530ef-b21e-42ee-8adf-9f10fdb93ec2",
   "metadata": {},
   "source": [
    "This shows the number of restaurants in different zip codes. Since neighborhood data was missing, I sorted by zip code."
   ]
  },
  {
   "cell_type": "code",
   "execution_count": 23,
   "id": "3ec97afd-6373-4770-85f1-6bf799f43a3a",
   "metadata": {},
   "outputs": [
    {
     "data": {
      "image/png": "[encoded data removed]",
      "text/plain": [
       "<Figure size 640x480 with 1 Axes>"
      ]
     },
     "metadata": {},
     "output_type": "display_data"
    }
   ],
   "source": [
    "import pandas as pd\n",
    "import matplotlib.pyplot as plt\n",
    "\n",
    "df = pd.read_csv(\"fastfood.tsv\", sep=\"\\t\")\n",
    "zip_counts = df['ZIP Code'].value_counts().sort_values(ascending=False).head(10)\n",
    "\n",
    "zip_counts.plot(kind='bar', color='skyblue')\n",
    "plt.xlabel(\"ZIP Code\")\n",
    "plt.ylabel(\"Total Number\")\n",
    "plt.title(\"Top 10 ZIP Codes by Count\")\n",
    "plt.xticks(rotation=45)\n",
    "plt.show()\n"
   ]
  },
  {
   "cell_type": "markdown",
   "id": "e6f8a23c-8c0e-4bf5-bd63-f84a1488d44f",
   "metadata": {},
   "source": [
    "This graph is intended to visualize the distribution of restaurants across different zip codes, providing insight into the variation based on zip code type."
   ]
  },
  {
   "cell_type": "code",
   "execution_count": 6,
   "id": "46fdfbed-b578-446a-9076-19c1130bb3ae",
   "metadata": {},
   "outputs": [
    {
     "name": "stdout",
     "output_type": "stream",
     "text": [
      "Failed to fetch GeoJSON data. Status code: 404\n"
     ]
    }
   ],
   "source": [
    "import folium\n",
    "import requests\n",
    "import pandas as pd\n",
    "\n",
    "# Step 1: Load the Data\n",
    "file_path = \"fastfood.tsv\"\n",
    "df = pd.read_csv(file_path, sep=\"\\t\")\n",
    "\n",
    "# Step 2: Identify Top 10 ZIP Codes\n",
    "zip_counts = (\n",
    "    df['ZIP Code']\n",
    "    .value_counts()\n",
    "    .sort_values(ascending=False)\n",
    "    .head(10)\n",
    ")\n",
    "\n",
    "# Step 3: Fetch GeoJSON Data for U.S. ZIP Codes\n",
    "geojson_url = 'https://raw.githubusercontent.com/PublicaMundi/MappingAPI/master/data/geojson/us/zip-code-area.geojson'\n",
    "response = requests.get(geojson_url)\n",
    "\n",
    "if response.status_code == 200:\n",
    "    geojson_data = response.json()\n",
    "else:\n",
    "    print(f\"Failed to fetch GeoJSON data. Status code: {response.status_code}\")\n",
    "    geojson_data = None\n",
    "\n",
    "# Step 4: Create and Populate the Map\n",
    "if geojson_data:\n",
    "    # Define map properties\n",
    "    map_center = [37.0902, -95.7129]  # Center of the U.S.\n",
    "    m = folium.Map(location=map_center, zoom_start=5)\n",
    "\n",
    "    # Add the top 10 ZIP codes to the map\n",
    "    for zip_code, count in zip_counts.items():\n",
    "        # Search for the ZIP code in GeoJSON data\n",
    "        feature = next(\n",
    "            (f for f in geojson_data['features'] \n",
    "             if f['properties']['postalCode'] == str(zip_code)),\n",
    "            None\n",
    "        )\n",
    "\n",
    "        if feature:\n",
    "            polygon = feature['geometry']\n",
    "            color = (\n",
    "                'red' if count >= 100 else\n",
    "                'orange' if count >= 50 else\n",
    "                'blue'\n",
    "            )\n",
    "\n",
    "            # Add the ZIP code to the map\n",
    "            folium.GeoJson(\n",
    "                feature,\n",
    "                style_function=lambda feature, color=color: {\n",
    "                    'fillColor': color,\n",
    "                    'color': 'black',\n",
    "                    'weight': 1,\n",
    "                    'fillOpacity': 0.6\n",
    "                },\n",
    "                tooltip=folium.Tooltip(f\"ZIP Code: {zip_code}, Count: {count}\")\n",
    "            ).add_to(m)\n",
    "\n",
    "    # Step 5: Save the Map\n",
    "    map_filename = 'top_10_zip_codes_map.html'\n",
    "    m.save(map_filename)\n",
    "    print(f\"Map has been saved as '{map_filename}'. Open this file in your browser to view the map.\")\n"
   ]
  },
  {
   "cell_type": "markdown",
   "id": "b6a6f425-a835-42d9-84e1-13acd818f8f1",
   "metadata": {},
   "source": [
    "This generates a map highlighting the neighborhoods in Pittsburgh with the highest concentration of restaurants. The file is called 'top_10_zip_codes_map.html'"
   ]
  },
  {
   "cell_type": "markdown",
   "id": "410c2c25-5fc1-4e97-a39d-033038212776",
   "metadata": {},
   "source": [
    "**Conclusion**"
   ]
  },
  {
   "cell_type": "markdown",
   "id": "9f9afcd1-7f9b-4623-802f-4c8e696b3e04",
   "metadata": {},
   "source": [
    " I don’t currently have a personal favorite neighborhood in Pittsburgh. However, in my data analysis, Braddock Hills emerged as the top neighborhood for most food options. This result was unexpected."
   ]
  }
 ],
 "metadata": {
  "kernelspec": {
   "display_name": "Python 3 (ipykernel)",
   "language": "python",
   "name": "python3"
  },
  "language_info": {
   "codemirror_mode": {
    "name": "ipython",
    "version": 3
   },
   "file_extension": ".py",
   "mimetype": "text/x-python",
   "name": "python",
   "nbconvert_exporter": "python",
   "pygments_lexer": "ipython3",
   "version": "3.12.4"
  }
 },
 "nbformat": 4,
 "nbformat_minor": 5
}
